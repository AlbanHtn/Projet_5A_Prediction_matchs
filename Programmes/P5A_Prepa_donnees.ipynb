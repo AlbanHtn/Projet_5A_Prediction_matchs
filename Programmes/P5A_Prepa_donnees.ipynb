{
 "cells": [
  {
   "cell_type": "markdown",
   "id": "f1b2c4bc-ebb8-4440-8a87-65af1e11f619",
   "metadata": {},
   "source": [
    "# Prédiction Résultats Matchs : Étape 1\n",
    "## Préparation des données"
   ]
  },
  {
   "cell_type": "code",
   "execution_count": 49,
   "id": "2f8dfdf7-96d9-4690-8e9c-261d607ec119",
   "metadata": {},
   "outputs": [],
   "source": [
    "import pandas as pd\n",
    "import numpy as np"
   ]
  },
  {
   "cell_type": "markdown",
   "id": "42f2e61d-2d29-44e5-94b2-6aa1f8a59964",
   "metadata": {},
   "source": [
    "## Chargement des données"
   ]
  },
  {
   "cell_type": "code",
   "execution_count": 50,
   "id": "a42239b3-92b6-4239-a1df-80a953712c2f",
   "metadata": {},
   "outputs": [
    {
     "name": "stdout",
     "output_type": "stream",
     "text": [
      "Matches shape: (228377, 42)\n",
      "Elo shape: (242591, 4)\n",
      "\n",
      "Colonnes Matches : ['Division', 'MatchDate', 'MatchTime', 'HomeTeam', 'AwayTeam', 'HomeElo', 'AwayElo', 'Form3Home', 'Form5Home', 'Form3Away', 'Form5Away', 'FTHome', 'FTAway', 'FTResult', 'HTHome', 'HTAway', 'HTResult', 'HomeShots', 'AwayShots', 'HomeTarget', 'AwayTarget', 'HomeFouls', 'AwayFouls', 'HomeCorners', 'AwayCorners', 'HomeYellow', 'AwayYellow', 'HomeRed', 'AwayRed', 'OddHome', 'OddDraw', 'OddAway', 'MaxHome', 'MaxDraw', 'MaxAway', 'Over25', 'Under25', 'MaxOver25', 'MaxUnder25', 'HandiSize', 'HandiHome', 'HandiAway']\n",
      "\n",
      "Colonnes Elo : ['date', 'club', 'country', 'elo']\n"
     ]
    },
    {
     "name": "stderr",
     "output_type": "stream",
     "text": [
      "C:\\Users\\Simon Guillet\\AppData\\Local\\Temp\\ipykernel_5432\\2104371362.py:1: DtypeWarning: Columns (2) have mixed types. Specify dtype option on import or set low_memory=False.\n",
      "  matches = pd.read_csv(\"../Donnees/Matches.csv\", sep=\",\")\n"
     ]
    }
   ],
   "source": [
    "matches = pd.read_csv(\"../Donnees/Matches.csv\", sep=\",\")\n",
    "elo = pd.read_csv(\"../Donnees/EloRatings.csv\", sep=\",\")\n",
    "\n",
    "print(\"Matches shape:\", matches.shape)\n",
    "print(\"Elo shape:\", elo.shape)\n",
    "\n",
    "print(\"\\nColonnes Matches :\", matches.columns.tolist())\n",
    "print(\"\\nColonnes Elo :\", elo.columns.tolist())\n"
   ]
  },
  {
   "cell_type": "markdown",
   "id": "b2379009-95c6-4859-91a1-7a9d086870f3",
   "metadata": {},
   "source": [
    "## Variable cible"
   ]
  },
  {
   "cell_type": "code",
   "execution_count": 51,
   "id": "c3bb7ba4-95d9-4ed5-818c-2d5c228a12b8",
   "metadata": {},
   "outputs": [
    {
     "name": "stdout",
     "output_type": "stream",
     "text": [
      "\n",
      "Répartition des résultats :\n",
      "FTResult_num\n",
      "0.0    0.446321\n",
      "2.0    0.288430\n",
      "1.0    0.265249\n",
      "Name: proportion, dtype: float64\n"
     ]
    }
   ],
   "source": [
    "\"\"\"\n",
    "H = Home, D = Draw, A = Away\n",
    "\"\"\"\n",
    "\n",
    "mapping_result = {\"H\": 0, \"D\": 1, \"A\": 2}\n",
    "matches[\"FTResult_num\"] = matches[\"FTResult\"].map(mapping_result)\n",
    "\n",
    "print(\"\\nRépartition des résultats :\")\n",
    "print(matches[\"FTResult_num\"].value_counts(normalize=True))"
   ]
  },
  {
   "cell_type": "markdown",
   "id": "a693c05e-60cd-436e-ae11-552edcb0bf5f",
   "metadata": {
    "jp-MarkdownHeadingCollapsed": true
   },
   "source": [
    "## Valeurs NaN"
   ]
  },
  {
   "cell_type": "markdown",
   "id": "95b5c688",
   "metadata": {},
   "source": []
  },
  {
   "cell_type": "code",
   "execution_count": 52,
   "id": "5c2da7ce-09e1-4339-9216-c7f132f15dd8",
   "metadata": {},
   "outputs": [
    {
     "name": "stdout",
     "output_type": "stream",
     "text": [
      "Pourcentage de NaN :\n",
      "MatchTime       0.575737\n",
      "HomeTarget      0.510682\n",
      "AwayTarget      0.510669\n",
      "HomeFouls       0.510489\n",
      "AwayFouls       0.510489\n",
      "AwayCorners     0.508782\n",
      "HomeCorners     0.508782\n",
      "HomeShots       0.507153\n",
      "AwayShots       0.507140\n",
      "AwayRed         0.487177\n",
      "HomeYellow      0.487173\n",
      "AwayYellow      0.487168\n",
      "HomeRed         0.487168\n",
      "AwayElo         0.387670\n",
      "HomeElo         0.387373\n",
      "Under25         0.359756\n",
      "MaxUnder25      0.359756\n",
      "MaxOver25       0.359752\n",
      "Over25          0.359752\n",
      "HandiAway       0.324468\n",
      "HandiHome       0.324363\n",
      "HandiSize       0.323255\n",
      "HTResult        0.238991\n",
      "HTAway          0.238991\n",
      "HTHome          0.238991\n",
      "MaxHome         0.121006\n",
      "MaxDraw         0.121006\n",
      "MaxAway         0.121006\n",
      "OddHome         0.013268\n",
      "OddDraw         0.013268\n",
      "OddAway         0.013268\n",
      "Form3Away       0.006568\n",
      "Form3Home       0.006568\n",
      "Form5Away       0.006568\n",
      "Form5Home       0.006568\n",
      "FTResult_num    0.000013\n",
      "FTResult        0.000013\n",
      "FTAway          0.000013\n",
      "FTHome          0.000013\n",
      "MatchDate       0.000000\n",
      "AwayTeam        0.000000\n",
      "HomeTeam        0.000000\n",
      "Division        0.000000\n",
      "dtype: float64\n",
      "\n",
      "NaN :\n",
      "         OddHome   OddDraw   OddAway  HomeShots  HomeCorners\n",
      "Season                                                      \n",
      "2000    0.209019  0.209019  0.209019   0.661417     0.661417\n",
      "2001    0.279507  0.279507  0.279507   0.547480     0.547480\n",
      "2002    0.021059  0.021059  0.021059   0.545278     0.544792\n",
      "2003    0.007814  0.007814  0.007814   0.545500     0.545500\n",
      "2004    0.037586  0.037586  0.037586   0.624864     0.624864\n",
      "2005    0.005521  0.005521  0.005521   0.576025     0.605363\n",
      "2006    0.002155  0.002155  0.002155   0.464722     0.491881\n",
      "2007    0.001215  0.001215  0.001215   0.461200     0.461200\n",
      "2008    0.000979  0.000979  0.000979   0.478735     0.478735\n",
      "2009    0.001276  0.001276  0.001276   0.482988     0.482988\n",
      "2010    0.003466  0.003466  0.003466   0.476245     0.476245\n",
      "2011    0.001484  0.001484  0.001484   0.443590     0.443590\n",
      "2012    0.003869  0.003869  0.003869   0.592715     0.592715\n",
      "2013    0.000512  0.000512  0.000512   0.642510     0.642510\n",
      "2014    0.001417  0.001417  0.001417   0.643125     0.643125\n",
      "2015    0.002429  0.002429  0.002429   0.652202     0.652202\n",
      "2016    0.000331  0.000331  0.000331   0.674545     0.674545\n",
      "2017    0.000728  0.000728  0.000728   0.546102     0.546102\n",
      "2018    0.000415  0.000415  0.000415   0.406411     0.406411\n",
      "2019    0.002746  0.002746  0.002746   0.408803     0.408803\n",
      "2020    0.001360  0.001360  0.001360   0.389458     0.389458\n",
      "2021    0.000229  0.000229  0.000229   0.404891     0.404891\n",
      "2022    0.000493  0.000493  0.000493   0.428172     0.428172\n",
      "2023    0.002400  0.002400  0.002400   0.424606     0.424606\n",
      "2024    0.000179  0.000179  0.000179   0.387513     0.387513\n",
      "2025    0.000000  0.000000  0.000000   0.000000     0.000000\n"
     ]
    }
   ],
   "source": [
    "import matplotlib.pyplot as plt\n",
    "import seaborn as sns\n",
    "\n",
    "nan_ratio = matches.isna().mean().sort_values(ascending=False)\n",
    "print(\"Pourcentage de NaN :\")\n",
    "print(nan_ratio)\n",
    "\n",
    "matches[\"Season\"] = pd.to_datetime(matches[\"MatchDate\"]).dt.year\n",
    "nan_by_year = matches.groupby(\"Season\").apply(lambda x: x.isna().mean())\n",
    "print(\"\\nNaN :\")\n",
    "print(nan_by_year[[\"OddHome\",\"OddDraw\",\"OddAway\",\"HomeShots\",\"HomeCorners\"]].head(26))"
   ]
  },
  {
   "cell_type": "markdown",
   "id": "29712c28-1942-4ad4-aff1-b67cffe533a2",
   "metadata": {},
   "source": [
    "## Choix objectif de l'année de départ"
   ]
  },
  {
   "cell_type": "code",
   "execution_count": 53,
   "id": "dfe27d0b-9c70-4ac7-a644-56c53cbb3dc8",
   "metadata": {},
   "outputs": [
    {
     "name": "stdout",
     "output_type": "stream",
     "text": [
      "Année minimale conseillée (seuil 95%): 2002\n",
      "\n",
      "Complétude :\n",
      "         OddHome   OddDraw   OddAway  Form5Home  Form5Away\n",
      "Season                                                    \n",
      "2000    0.790981  0.790981  0.790981   1.000000   1.000000\n",
      "2001    0.720493  0.720493  0.720493   1.000000   1.000000\n",
      "2002    0.978941  0.978941  0.978941   1.000000   1.000000\n",
      "2003    0.992186  0.992186  0.992186   1.000000   1.000000\n",
      "2004    0.962414  0.962414  0.962414   1.000000   1.000000\n",
      "2005    0.994479  0.994479  0.994479   1.000000   1.000000\n",
      "2006    0.997845  0.997845  0.997845   1.000000   1.000000\n",
      "2007    0.998785  0.998785  0.998785   1.000000   1.000000\n",
      "2008    0.999021  0.999021  0.999021   1.000000   1.000000\n",
      "2009    0.998724  0.998724  0.998724   1.000000   1.000000\n",
      "2010    0.996534  0.996534  0.996534   1.000000   1.000000\n",
      "2011    0.998516  0.998516  0.998516   1.000000   1.000000\n",
      "2012    0.996131  0.996131  0.996131   1.000000   1.000000\n",
      "2013    0.999488  0.999488  0.999488   1.000000   1.000000\n",
      "2014    0.998583  0.998583  0.998583   1.000000   1.000000\n",
      "2015    0.997571  0.997571  0.997571   0.973931   0.973931\n",
      "2016    0.999669  0.999669  0.999669   0.968595   0.968595\n",
      "2017    0.999272  0.999272  0.999272   0.975898   0.975898\n",
      "2018    0.999585  0.999585  0.999585   0.987793   0.987793\n",
      "2019    0.997254  0.997254  0.997254   0.980030   0.980030\n",
      "2020    0.998640  0.998640  0.998640   0.988182   0.988182\n",
      "2021    0.999771  0.999771  0.999771   1.000000   1.000000\n",
      "2022    0.999507  0.999507  0.999507   1.000000   1.000000\n",
      "2023    0.997600  0.997600  0.997600   1.000000   1.000000\n",
      "2024    0.999821  0.999821  0.999821   1.000000   1.000000\n",
      "2025    1.000000  1.000000  1.000000   1.000000   1.000000\n"
     ]
    }
   ],
   "source": [
    "critical_cols = [\"OddHome\", \"OddDraw\", \"OddAway\", \"Form5Home\", \"Form5Away\"]\n",
    "\n",
    "nan_by_year = matches.groupby(\"Season\")[critical_cols].apply(lambda x: x.notna().mean())\n",
    "\n",
    "threshold = 0.95\n",
    "\n",
    "valid_years = nan_by_year[(nan_by_year > threshold).all(axis=1)].index\n",
    "\n",
    "if len(valid_years) > 0:\n",
    "    year_cutoff = valid_years.min()\n",
    "    print(f\"Année minimale conseillée (seuil {threshold*100:.0f}%): {year_cutoff}\")\n",
    "else:\n",
    "    print(\"Aucune année pour ce seuil\")\n",
    "\n",
    "print(\"\\nComplétude :\")\n",
    "print(nan_by_year.head(26))  "
   ]
  },
  {
   "cell_type": "markdown",
   "id": "47ac64e0-98e7-4419-880d-98ee044a03f3",
   "metadata": {},
   "source": [
    "#### -> 2002 ou 2005 pour le cutoff"
   ]
  },
  {
   "cell_type": "markdown",
   "id": "645ab00c-2235-451a-8af1-2ec660152633",
   "metadata": {},
   "source": [
    "## Features Engineering (création de features enrichies)"
   ]
  },
  {
   "cell_type": "code",
   "execution_count": 54,
   "id": "b1c8c322-3b2d-42fb-9fae-3f6f793f6512",
   "metadata": {},
   "outputs": [
    {
     "name": "stdout",
     "output_type": "stream",
     "text": [
      "['Division', 'MatchDate', 'MatchTime', 'HomeTeam', 'AwayTeam', 'HomeElo', 'AwayElo', 'Form3Home', 'Form5Home', 'Form3Away', 'Form5Away', 'FTHome', 'FTAway', 'FTResult', 'HTHome', 'HTAway', 'HTResult', 'HomeShots', 'AwayShots', 'HomeTarget', 'AwayTarget', 'HomeFouls', 'AwayFouls', 'HomeCorners', 'AwayCorners', 'HomeYellow', 'AwayYellow', 'HomeRed', 'AwayRed', 'OddHome', 'OddDraw', 'OddAway', 'MaxHome', 'MaxDraw', 'MaxAway', 'Over25', 'Under25', 'MaxOver25', 'MaxUnder25', 'HandiSize', 'HandiHome', 'HandiAway', 'FTResult_num', 'Season']\n",
      "['date', 'club', 'country', 'elo']\n"
     ]
    }
   ],
   "source": [
    "print(matches.columns.tolist())\n",
    "print(elo.columns.tolist())"
   ]
  },
  {
   "cell_type": "code",
   "execution_count": 55,
   "id": "6c2b5c8c-dc4e-440d-87d2-ef2bc640cf01",
   "metadata": {},
   "outputs": [
    {
     "name": "stderr",
     "output_type": "stream",
     "text": [
      "C:\\Users\\Simon Guillet\\AppData\\Local\\Temp\\ipykernel_5432\\654599276.py:2: UserWarning: Parsing dates in %Y-%m-%d format when dayfirst=True was specified. Pass `dayfirst=False` or specify a format to silence this warning.\n",
      "  matches = pd.read_csv(\"../Donnees/Matches.csv\",\n"
     ]
    },
    {
     "ename": "ValueError",
     "evalue": "Merge keys contain null values on right side",
     "output_type": "error",
     "traceback": [
      "\u001b[1;31m---------------------------------------------------------------------------\u001b[0m",
      "\u001b[1;31mValueError\u001b[0m                                Traceback (most recent call last)",
      "Cell \u001b[1;32mIn[55], line 48\u001b[0m\n\u001b[0;32m     45\u001b[0m     \u001b[38;5;28;01mreturn\u001b[39;00m pd\u001b[38;5;241m.\u001b[39mconcat(out, ignore_index\u001b[38;5;241m=\u001b[39m\u001b[38;5;28;01mTrue\u001b[39;00m)\n\u001b[0;32m     47\u001b[0m \u001b[38;5;66;03m# Merge \u001b[39;00m\n\u001b[1;32m---> 48\u001b[0m matches \u001b[38;5;241m=\u001b[39m merge_asof_team(matches, elo, \u001b[38;5;124m\"\u001b[39m\u001b[38;5;124mHomeTeam\u001b[39m\u001b[38;5;124m\"\u001b[39m, \u001b[38;5;124m\"\u001b[39m\u001b[38;5;124mHome\u001b[39m\u001b[38;5;124m\"\u001b[39m)\n\u001b[0;32m     49\u001b[0m matches \u001b[38;5;241m=\u001b[39m merge_asof_team(matches, elo, \u001b[38;5;124m\"\u001b[39m\u001b[38;5;124mAwayTeam\u001b[39m\u001b[38;5;124m\"\u001b[39m, \u001b[38;5;124m\"\u001b[39m\u001b[38;5;124mAway\u001b[39m\u001b[38;5;124m\"\u001b[39m)\n\u001b[0;32m     51\u001b[0m matches\u001b[38;5;241m.\u001b[39mdrop(columns\u001b[38;5;241m=\u001b[39m[\u001b[38;5;124m\"\u001b[39m\u001b[38;5;124mdate\u001b[39m\u001b[38;5;124m\"\u001b[39m], inplace\u001b[38;5;241m=\u001b[39m\u001b[38;5;28;01mTrue\u001b[39;00m, errors\u001b[38;5;241m=\u001b[39m\u001b[38;5;124m\"\u001b[39m\u001b[38;5;124mignore\u001b[39m\u001b[38;5;124m\"\u001b[39m)\n",
      "Cell \u001b[1;32mIn[55], line 29\u001b[0m, in \u001b[0;36mmerge_asof_team\u001b[1;34m(matches, elo, team_col, prefix)\u001b[0m\n\u001b[0;32m     27\u001b[0m     df_team \u001b[38;5;241m=\u001b[39m df_team\u001b[38;5;241m.\u001b[39msort_values(\u001b[38;5;124m\"\u001b[39m\u001b[38;5;124mMatchDate\u001b[39m\u001b[38;5;124m\"\u001b[39m)\n\u001b[0;32m     28\u001b[0m     df_elo \u001b[38;5;241m=\u001b[39m elo[elo[\u001b[38;5;124m\"\u001b[39m\u001b[38;5;124mclub\u001b[39m\u001b[38;5;124m\"\u001b[39m] \u001b[38;5;241m==\u001b[39m team]\u001b[38;5;241m.\u001b[39msort_values(\u001b[38;5;124m\"\u001b[39m\u001b[38;5;124mdate\u001b[39m\u001b[38;5;124m\"\u001b[39m)\n\u001b[1;32m---> 29\u001b[0m     merged \u001b[38;5;241m=\u001b[39m pd\u001b[38;5;241m.\u001b[39mmerge_asof(\n\u001b[0;32m     30\u001b[0m         df_team,\n\u001b[0;32m     31\u001b[0m         df_elo\u001b[38;5;241m.\u001b[39mrename(columns\u001b[38;5;241m=\u001b[39m{\n\u001b[0;32m     32\u001b[0m             \u001b[38;5;124m\"\u001b[39m\u001b[38;5;124mclub\u001b[39m\u001b[38;5;124m\"\u001b[39m: team_col,\n\u001b[0;32m     33\u001b[0m             \u001b[38;5;124m\"\u001b[39m\u001b[38;5;124melo\u001b[39m\u001b[38;5;124m\"\u001b[39m: \u001b[38;5;124mf\u001b[39m\u001b[38;5;124m\"\u001b[39m\u001b[38;5;132;01m{\u001b[39;00mprefix\u001b[38;5;132;01m}\u001b[39;00m\u001b[38;5;124mEloSnap\u001b[39m\u001b[38;5;124m\"\u001b[39m,\n\u001b[0;32m     34\u001b[0m             \u001b[38;5;124m\"\u001b[39m\u001b[38;5;124mEloChange1M\u001b[39m\u001b[38;5;124m\"\u001b[39m: \u001b[38;5;124mf\u001b[39m\u001b[38;5;124m\"\u001b[39m\u001b[38;5;132;01m{\u001b[39;00mprefix\u001b[38;5;132;01m}\u001b[39;00m\u001b[38;5;124mEloChange1M\u001b[39m\u001b[38;5;124m\"\u001b[39m,\n\u001b[0;32m     35\u001b[0m             \u001b[38;5;124m\"\u001b[39m\u001b[38;5;124mEloChange3M\u001b[39m\u001b[38;5;124m\"\u001b[39m: \u001b[38;5;124mf\u001b[39m\u001b[38;5;124m\"\u001b[39m\u001b[38;5;132;01m{\u001b[39;00mprefix\u001b[38;5;132;01m}\u001b[39;00m\u001b[38;5;124mEloChange3M\u001b[39m\u001b[38;5;124m\"\u001b[39m,\n\u001b[0;32m     36\u001b[0m             \u001b[38;5;124m\"\u001b[39m\u001b[38;5;124mEloChange6M\u001b[39m\u001b[38;5;124m\"\u001b[39m: \u001b[38;5;124mf\u001b[39m\u001b[38;5;124m\"\u001b[39m\u001b[38;5;132;01m{\u001b[39;00mprefix\u001b[38;5;132;01m}\u001b[39;00m\u001b[38;5;124mEloChange6M\u001b[39m\u001b[38;5;124m\"\u001b[39m\n\u001b[0;32m     37\u001b[0m         }),\n\u001b[0;32m     38\u001b[0m         by\u001b[38;5;241m=\u001b[39mteam_col,\n\u001b[0;32m     39\u001b[0m         left_on\u001b[38;5;241m=\u001b[39m\u001b[38;5;124m\"\u001b[39m\u001b[38;5;124mMatchDate\u001b[39m\u001b[38;5;124m\"\u001b[39m,\n\u001b[0;32m     40\u001b[0m         right_on\u001b[38;5;241m=\u001b[39m\u001b[38;5;124m\"\u001b[39m\u001b[38;5;124mdate\u001b[39m\u001b[38;5;124m\"\u001b[39m,\n\u001b[0;32m     41\u001b[0m         direction\u001b[38;5;241m=\u001b[39m\u001b[38;5;124m\"\u001b[39m\u001b[38;5;124mbackward\u001b[39m\u001b[38;5;124m\"\u001b[39m,\n\u001b[0;32m     42\u001b[0m         allow_exact_matches\u001b[38;5;241m=\u001b[39m\u001b[38;5;28;01mTrue\u001b[39;00m\n\u001b[0;32m     43\u001b[0m     )\n\u001b[0;32m     44\u001b[0m     out\u001b[38;5;241m.\u001b[39mappend(merged)\n\u001b[0;32m     45\u001b[0m \u001b[38;5;28;01mreturn\u001b[39;00m pd\u001b[38;5;241m.\u001b[39mconcat(out, ignore_index\u001b[38;5;241m=\u001b[39m\u001b[38;5;28;01mTrue\u001b[39;00m)\n",
      "File \u001b[1;32mc:\\Users\\Simon Guillet\\anaconda3\\Lib\\site-packages\\pandas\\core\\reshape\\merge.py:633\u001b[0m, in \u001b[0;36mmerge_asof\u001b[1;34m(left, right, on, left_on, right_on, left_index, right_index, by, left_by, right_by, suffixes, tolerance, allow_exact_matches, direction)\u001b[0m\n\u001b[0;32m    377\u001b[0m \u001b[38;5;250m\u001b[39m\u001b[38;5;124;03m\"\"\"\u001b[39;00m\n\u001b[0;32m    378\u001b[0m \u001b[38;5;124;03mPerform a merge by key distance.\u001b[39;00m\n\u001b[0;32m    379\u001b[0m \n\u001b[1;32m   (...)\u001b[0m\n\u001b[0;32m    614\u001b[0m \u001b[38;5;124;03m4 2016-05-25 13:30:00.048   AAPL   98.00       100     NaN     NaN\u001b[39;00m\n\u001b[0;32m    615\u001b[0m \u001b[38;5;124;03m\"\"\"\u001b[39;00m\n\u001b[0;32m    616\u001b[0m op \u001b[38;5;241m=\u001b[39m _AsOfMerge(\n\u001b[0;32m    617\u001b[0m     left,\n\u001b[0;32m    618\u001b[0m     right,\n\u001b[1;32m   (...)\u001b[0m\n\u001b[0;32m    631\u001b[0m     direction\u001b[38;5;241m=\u001b[39mdirection,\n\u001b[0;32m    632\u001b[0m )\n\u001b[1;32m--> 633\u001b[0m \u001b[38;5;28;01mreturn\u001b[39;00m op\u001b[38;5;241m.\u001b[39mget_result()\n",
      "File \u001b[1;32mc:\\Users\\Simon Guillet\\anaconda3\\Lib\\site-packages\\pandas\\core\\reshape\\merge.py:1816\u001b[0m, in \u001b[0;36m_OrderedMerge.get_result\u001b[1;34m(self, copy)\u001b[0m\n\u001b[0;32m   1815\u001b[0m \u001b[38;5;28;01mdef\u001b[39;00m \u001b[38;5;21mget_result\u001b[39m(\u001b[38;5;28mself\u001b[39m, copy: \u001b[38;5;28mbool\u001b[39m \u001b[38;5;241m|\u001b[39m \u001b[38;5;28;01mNone\u001b[39;00m \u001b[38;5;241m=\u001b[39m \u001b[38;5;28;01mTrue\u001b[39;00m) \u001b[38;5;241m-\u001b[39m\u001b[38;5;241m>\u001b[39m DataFrame:\n\u001b[1;32m-> 1816\u001b[0m     join_index, left_indexer, right_indexer \u001b[38;5;241m=\u001b[39m \u001b[38;5;28mself\u001b[39m\u001b[38;5;241m.\u001b[39m_get_join_info()\n\u001b[0;32m   1818\u001b[0m     llabels, rlabels \u001b[38;5;241m=\u001b[39m _items_overlap_with_suffix(\n\u001b[0;32m   1819\u001b[0m         \u001b[38;5;28mself\u001b[39m\u001b[38;5;241m.\u001b[39mleft\u001b[38;5;241m.\u001b[39m_info_axis, \u001b[38;5;28mself\u001b[39m\u001b[38;5;241m.\u001b[39mright\u001b[38;5;241m.\u001b[39m_info_axis, \u001b[38;5;28mself\u001b[39m\u001b[38;5;241m.\u001b[39msuffixes\n\u001b[0;32m   1820\u001b[0m     )\n\u001b[0;32m   1822\u001b[0m     left_join_indexer: np\u001b[38;5;241m.\u001b[39mndarray \u001b[38;5;241m|\u001b[39m \u001b[38;5;28;01mNone\u001b[39;00m\n",
      "File \u001b[1;32mc:\\Users\\Simon Guillet\\anaconda3\\Lib\\site-packages\\pandas\\core\\reshape\\merge.py:1065\u001b[0m, in \u001b[0;36m_MergeOperation._get_join_info\u001b[1;34m(self)\u001b[0m\n\u001b[0;32m   1061\u001b[0m     join_index, right_indexer, left_indexer \u001b[38;5;241m=\u001b[39m _left_join_on_index(\n\u001b[0;32m   1062\u001b[0m         right_ax, left_ax, \u001b[38;5;28mself\u001b[39m\u001b[38;5;241m.\u001b[39mright_join_keys, sort\u001b[38;5;241m=\u001b[39m\u001b[38;5;28mself\u001b[39m\u001b[38;5;241m.\u001b[39msort\n\u001b[0;32m   1063\u001b[0m     )\n\u001b[0;32m   1064\u001b[0m \u001b[38;5;28;01melse\u001b[39;00m:\n\u001b[1;32m-> 1065\u001b[0m     (left_indexer, right_indexer) \u001b[38;5;241m=\u001b[39m \u001b[38;5;28mself\u001b[39m\u001b[38;5;241m.\u001b[39m_get_join_indexers()\n\u001b[0;32m   1067\u001b[0m     \u001b[38;5;28;01mif\u001b[39;00m \u001b[38;5;28mself\u001b[39m\u001b[38;5;241m.\u001b[39mright_index:\n\u001b[0;32m   1068\u001b[0m         \u001b[38;5;28;01mif\u001b[39;00m \u001b[38;5;28mlen\u001b[39m(\u001b[38;5;28mself\u001b[39m\u001b[38;5;241m.\u001b[39mleft) \u001b[38;5;241m>\u001b[39m \u001b[38;5;241m0\u001b[39m:\n",
      "File \u001b[1;32mc:\\Users\\Simon Guillet\\anaconda3\\Lib\\site-packages\\pandas\\core\\reshape\\merge.py:2115\u001b[0m, in \u001b[0;36m_AsOfMerge._get_join_indexers\u001b[1;34m(self)\u001b[0m\n\u001b[0;32m   2113\u001b[0m     side \u001b[38;5;241m=\u001b[39m \u001b[38;5;124m\"\u001b[39m\u001b[38;5;124mright\u001b[39m\u001b[38;5;124m\"\u001b[39m\n\u001b[0;32m   2114\u001b[0m     \u001b[38;5;28;01mif\u001b[39;00m isna(right_values)\u001b[38;5;241m.\u001b[39many():\n\u001b[1;32m-> 2115\u001b[0m         \u001b[38;5;28;01mraise\u001b[39;00m \u001b[38;5;167;01mValueError\u001b[39;00m(\u001b[38;5;124mf\u001b[39m\u001b[38;5;124m\"\u001b[39m\u001b[38;5;124mMerge keys contain null values on \u001b[39m\u001b[38;5;132;01m{\u001b[39;00mside\u001b[38;5;132;01m}\u001b[39;00m\u001b[38;5;124m side\u001b[39m\u001b[38;5;124m\"\u001b[39m)\n\u001b[0;32m   2116\u001b[0m     \u001b[38;5;28;01mraise\u001b[39;00m \u001b[38;5;167;01mValueError\u001b[39;00m(\u001b[38;5;124mf\u001b[39m\u001b[38;5;124m\"\u001b[39m\u001b[38;5;132;01m{\u001b[39;00mside\u001b[38;5;132;01m}\u001b[39;00m\u001b[38;5;124m keys must be sorted\u001b[39m\u001b[38;5;124m\"\u001b[39m)\n\u001b[0;32m   2118\u001b[0m \u001b[38;5;66;03m# initial type conversion as needed\u001b[39;00m\n",
      "\u001b[1;31mValueError\u001b[0m: Merge keys contain null values on right side"
     ]
    }
   ],
   "source": [
    "# Charger les données\n",
    "matches = pd.read_csv(\"../Donnees/Matches.csv\", \n",
    "                      sep=\",\", parse_dates=[\"MatchDate\"], dayfirst=True, low_memory=False)\n",
    "elo = pd.read_csv(\"../Donnees/EloRatings.csv\", \n",
    "                  sep=\",\", parse_dates=[\"date\"], dayfirst=True)\n",
    "\n",
    "elo = elo.sort_values([\"club\", \"date\"]).reset_index(drop=True)\n",
    "\n",
    "def compute_elo_change(elo_df, months=1):\n",
    "    col_name = f\"EloChange{months}M\"\n",
    "    elo_df[col_name] = elo_df.groupby(\"club\")[\"elo\"].diff(periods=months*2)\n",
    "    return elo_df\n",
    "\n",
    "for m in [1, 3, 6]:\n",
    "    elo = compute_elo_change(elo, months=m)\n",
    "\n",
    "elo_features = [\"club\", \"date\", \"elo\", \"EloChange1M\", \"EloChange3M\", \"EloChange6M\"]\n",
    "elo = elo[elo_features]\n",
    "\n",
    "matches[\"MatchDate\"] = pd.to_datetime(matches[\"MatchDate\"], dayfirst=True, errors=\"coerce\")\n",
    "elo[\"date\"] = pd.to_datetime(elo[\"date\"], dayfirst=True, errors=\"coerce\")\n",
    "\n",
    "def merge_asof_team(matches, elo, team_col, prefix):\n",
    "    \"\"\"Applique merge_asof équipe par équipe, contre le pb de tri\"\"\"\n",
    "    out = []\n",
    "    for team, df_team in matches.groupby(team_col):\n",
    "        df_team = df_team.sort_values(\"MatchDate\")\n",
    "        df_elo = elo[elo[\"club\"] == team].sort_values(\"date\")\n",
    "        merged = pd.merge_asof(\n",
    "            df_team,\n",
    "            df_elo.rename(columns={\n",
    "                \"club\": team_col,\n",
    "                \"elo\": f\"{prefix}EloSnap\",\n",
    "                \"EloChange1M\": f\"{prefix}EloChange1M\",\n",
    "                \"EloChange3M\": f\"{prefix}EloChange3M\",\n",
    "                \"EloChange6M\": f\"{prefix}EloChange6M\"\n",
    "            }),\n",
    "            by=team_col,\n",
    "            left_on=\"MatchDate\",\n",
    "            right_on=\"date\",\n",
    "            direction=\"backward\",\n",
    "            allow_exact_matches=True\n",
    "        )\n",
    "        out.append(merged)\n",
    "    return pd.concat(out, ignore_index=True)\n",
    "\n",
    "# Merge \n",
    "matches = merge_asof_team(matches, elo, \"HomeTeam\", \"Home\")\n",
    "matches = merge_asof_team(matches, elo, \"AwayTeam\", \"Away\")\n",
    "\n",
    "matches.drop(columns=[\"date\"], inplace=True, errors=\"ignore\")\n",
    "\n",
    "# momentum\n",
    "matches[\"EloChange1M_Diff\"] = matches[\"HomeEloChange1M\"] - matches[\"AwayEloChange1M\"]\n",
    "matches[\"EloChange3M_Diff\"] = matches[\"HomeEloChange3M\"] - matches[\"AwayEloChange3M\"]\n",
    "matches[\"EloChange6M_Diff\"] = matches[\"HomeEloChange6M\"] - matches[\"AwayEloChange6M\"]\n",
    "\n",
    "# elo\n",
    "matches[\"EloDiff\"] = matches[\"HomeElo\"] - matches[\"AwayElo\"] \n",
    "matches[\"EloTotal\"] = matches[\"HomeElo\"] + matches[\"AwayElo\"] \n",
    "matches[\"EloAdvantage\"] = matches[\"EloDiff\"] / matches[\"EloTotal\"]\n",
    "\n",
    "matches[\"EloDiff2\"] = matches[\"HomeEloSnap\"] - matches[\"AwayEloSnap\"]\n",
    "matches[\"EloTotal2\"] = matches[\"HomeEloSnap\"] + matches[\"AwayEloSnap\"]\n",
    "matches[\"EloAdvantage2\"] = matches[\"EloDiff2\"] / matches[\"EloTotal2\"]\n",
    "\n",
    "matches[\"Form3Diff\"] = matches[\"Form3Home\"] - matches[\"Form3Away\"]\n",
    "matches[\"Form5Diff\"] = matches[\"Form5Home\"] - matches[\"Form5Away\"]\n",
    "matches[\"FormMomentumHome\"] = matches[\"Form3Home\"] - (matches[\"Form5Home\"] - matches[\"Form3Home\"])\n",
    "matches[\"FormMomentumAway\"] = matches[\"Form3Away\"] - (matches[\"Form5Away\"] - matches[\"Form3Away\"])\n",
    "\n",
    "# Probabilités (odds)\n",
    "matches[\"PHome\"] = 1 / matches[\"OddHome\"]\n",
    "matches[\"PDraw\"] = 1 / matches[\"OddDraw\"]\n",
    "matches[\"PAway\"] = 1 / matches[\"OddAway\"]\n",
    "\n",
    "# Normalisation\n",
    "matches[\"ProbSum\"] = matches[\"PHome\"] + matches[\"PDraw\"] + matches[\"PAway\"]\n",
    "matches[\"PHome_norm\"] = matches[\"PHome\"] / matches[\"ProbSum\"]\n",
    "matches[\"PDraw_norm\"] = matches[\"PDraw\"] / matches[\"ProbSum\"]\n",
    "matches[\"PAway_norm\"] = matches[\"PAway\"] / matches[\"ProbSum\"]\n",
    "\n",
    "matches[\"ShotsDifference\"] = matches[\"HomeShots\"] - matches[\"AwayShots\"]\n",
    "matches[\"CornersDifference\"] = matches[\"HomeCorners\"] - matches[\"AwayCorners\"]\n",
    "matches[\"CardsHome\"] = matches[\"HomeYellow\"] + 2*matches[\"HomeRed\"]\n",
    "matches[\"CardsAway\"] = matches[\"AwayYellow\"] + 2*matches[\"AwayRed\"]\n",
    "matches[\"CardsDiff\"] = matches[\"CardsHome\"] - matches[\"CardsAway\"]\n",
    "matches[\"GameDominanceIndex\"] = (matches[\"ShotsDifference\"] + matches[\"CornersDifference\"]) / 2\n",
    "\n",
    "print(\"\\nComplétude des Elo après merge_asof :\")\n",
    "print(matches[[\"HomeEloSnap\", \"AwayEloSnap\"]].notna().mean() * 100)\n",
    "\n",
    "print(\"\\nAperçu des features enrichies :\")\n",
    "print(matches[[\n",
    "    \"EloDiff\", \"EloAdvantage\", \"Form5Diff\",\n",
    "    \"PHome_norm\", \"GameDominanceIndex\",\n",
    "    \"EloChange1M_Diff\", \"EloChange3M_Diff\", \"EloChange6M_Diff\"\n",
    "]].head())"
   ]
  },
  {
   "cell_type": "markdown",
   "id": "53cfcb78-90fd-4ffd-8bbc-5f9d12b5d0fd",
   "metadata": {},
   "source": [
    "### Diagnostic des NaN Elo"
   ]
  },
  {
   "cell_type": "code",
   "execution_count": null,
   "id": "2901d8d2-d295-40b9-b74d-1d7f91fef517",
   "metadata": {},
   "outputs": [
    {
     "name": "stdout",
     "output_type": "stream",
     "text": [
      "Nb clubs sans Elo (Home): 578\n",
      "Nb clubs sans Elo (Away): 568\n",
      "\n",
      "Exemples clubs sans Elo (Home): ['Tirol' 'St. Polten' 'Austria Vienna' 'Wolfsberger AC' 'SK Rapid'\n",
      " 'A. Lustenau' 'Grazer AK' 'A. Klagenfurt' 'Ankaragucu' 'HJK' 'KTP' 'KuPS'\n",
      " 'SJK' 'Ilves' 'Honka' 'HIFK' 'VPS' 'Ekenas' 'Gnistan' 'Kallithea']\n",
      "Exemples clubs sans Elo (Away): ['A. Klagenfurt' 'A. Lustenau' 'AC Oulu' 'AFC Eskilstuna'\n",
      " 'AFC Telford United' 'AFC Wimbledon' 'Aarau' 'Academica Clinceni'\n",
      " 'Accrington' 'Airdrie' 'Airdrie Utd' 'Ajaccio GFCO' 'Akhmat Grozny'\n",
      " 'Akron Togliatti' 'Albion Rvs' 'Albirex Niigata' 'Aldershot' 'Aldosivi'\n",
      " 'Alfreton Town' 'All Boys']\n",
      "\n",
      "Clubs Home absents de EloRatings: ['Tirol', 'St. Polten', 'Austria Vienna', 'Wolfsberger AC', 'SK Rapid', 'A. Lustenau', 'Grazer AK', 'A. Klagenfurt', 'Ankaragucu', 'HJK', 'KTP', 'KuPS', 'SJK', 'Ilves', 'Honka', 'HIFK', 'VPS', 'Ekenas', 'Gnistan', 'Kallithea']\n",
      "Clubs Away absents de EloRatings: ['A. Klagenfurt', 'A. Lustenau', 'AC Oulu', 'AFC Eskilstuna', 'AFC Telford United', 'AFC Wimbledon', 'Aarau', 'Academica Clinceni', 'Accrington', 'Airdrie', 'Airdrie Utd', 'Ajaccio GFCO', 'Akhmat Grozny', 'Albion Rvs', 'Albirex Niigata', 'Aldershot', 'Aldosivi', 'Alfreton Town', 'All Boys', 'Alloa']\n"
     ]
    }
   ],
   "source": [
    "missing_home = matches[matches[\"HomeEloSnap\"].isna()][\"HomeTeam\"].unique()\n",
    "missing_away = matches[matches[\"AwayEloSnap\"].isna()][\"AwayTeam\"].unique()\n",
    "\n",
    "print(f\"Nb clubs sans Elo (Home): {len(missing_home)}\")\n",
    "print(f\"Nb clubs sans Elo (Away): {len(missing_away)}\")\n",
    "\n",
    "print(\"\\nExemples clubs sans Elo (Home):\", missing_home[:20])\n",
    "print(\"Exemples clubs sans Elo (Away):\", missing_away[:20])\n",
    "\n",
    "missing_in_elo_home = [c for c in missing_home if c not in elo[\"club\"].unique()]\n",
    "missing_in_elo_away = [c for c in missing_away if c not in elo[\"club\"].unique()]\n",
    "\n",
    "print(\"\\nClubs Home absents de EloRatings:\", missing_in_elo_home[:20])\n",
    "print(\"Clubs Away absents de EloRatings:\", missing_in_elo_away[:20])"
   ]
  },
  {
   "cell_type": "markdown",
   "id": "839086fd-3f68-4871-ae45-3c906617bca1",
   "metadata": {
    "jp-MarkdownHeadingCollapsed": true
   },
   "source": [
    "### Solution NaN Elo (fuzzy matching)"
   ]
  },
  {
   "cell_type": "raw",
   "id": "8e6d282a-fe89-43eb-a49a-8418bb1dcf2e",
   "metadata": {},
   "source": [
    "from rapidfuzz import process\n",
    "\n",
    "elo_clubs = elo[\"club\"].unique()\n",
    "\n",
    "missing_clubs = set(matches[matches[\"HomeEloSnap\"].isna()][\"HomeTeam\"].unique()) | \\\n",
    "                set(matches[matches[\"AwayEloSnap\"].isna()][\"AwayTeam\"].unique())\n",
    "\n",
    "suggestions = []\n",
    "for club in sorted(missing_clubs):\n",
    "    best_matches = process.extract(club, elo_clubs, limit=3)\n",
    "    for match, score, _ in best_matches:\n",
    "        suggestions.append({\n",
    "            \"club_missing\": club,\n",
    "            \"suggested_match\": match,\n",
    "            \"similarity\": score\n",
    "        })\n",
    "\n",
    "suggestions_df = pd.DataFrame(suggestions)\n",
    "\n",
    "best_suggestions = suggestions_df.sort_values([\"club_missing\", \"similarity\"], ascending=[True, False]) \\\n",
    "                                 .groupby(\"club_missing\").head(1)\n",
    "\n",
    "best_suggestions.to_csv(\"C:/Users/Alban/Documents/IMDS/Projet_5A/Donnees/club_mapping_suggestions.csv\", index=False)\n",
    "\n",
    "print(best_suggestions.head(20))"
   ]
  },
  {
   "cell_type": "raw",
   "id": "c7120c4b-2e22-47d1-8508-588192f56ec8",
   "metadata": {},
   "source": [
    "mapping = pd.read_csv(\"C:/Users/Alban/Documents/IMDS/Projet_5A/Donnees/club_mapping_suggestions.csv\")\n",
    "mapping_filtered = mapping[mapping[\"similarity\"] >= 85].copy()\n",
    "mapping_filtered = mapping_filtered.sort_values(\"similarity\", ascending=False).drop_duplicates(\"club_missing\")\n",
    "mapping_filtered.to_csv(\"C:/Users/Alban/Documents/IMDS/Projet_5A/Donnees/club_mapping_clean.csv\", index=False)\n",
    "print(\"\\nFichier propre sauvegardé : club_mapping_clean.csv\")"
   ]
  },
  {
   "cell_type": "markdown",
   "id": "7d427724-8245-4948-8c8a-c88719f245b7",
   "metadata": {
    "jp-MarkdownHeadingCollapsed": true
   },
   "source": [
    "### --> vérification mapping "
   ]
  },
  {
   "cell_type": "raw",
   "id": "2aa9ca78-3736-4169-ad49-b096e7c9e703",
   "metadata": {},
   "source": [
    "mapping_df = pd.read_csv(\"C:/Users/Alban/Documents/IMDS/Projet_5A/Donnees/club_mapping_clean.csv\",sep=\";\")\n",
    "\n",
    "print(\"Colonnes disponibles :\", mapping_df.columns.tolist())\n",
    "\n",
    "club_mapping = dict(zip(mapping_df[\"club_missing\"], mapping_df[\"suggested_match\"]))\n",
    "\n",
    "matches[\"HomeTeam\"] = matches[\"HomeTeam\"].replace(club_mapping)\n",
    "matches[\"AwayTeam\"] = matches[\"AwayTeam\"].replace(club_mapping)\n",
    "\n",
    "print(\"\\nComplétude :\")\n",
    "print(matches[[\"HomeEloSnap\", \"AwayEloSnap\"]].notna().mean() * 100)\n",
    "\n",
    "missing_home = matches[matches[\"HomeEloSnap\"].isna()][\"HomeTeam\"].unique()\n",
    "missing_away = matches[matches[\"AwayEloSnap\"].isna()][\"AwayTeam\"].unique()\n",
    "\n",
    "print(f\"\\n{len(missing_home)} clubs sans Elo (Home)\")\n",
    "print(f\"{len(missing_away)} clubs sans Elo (Away)\")"
   ]
  },
  {
   "cell_type": "markdown",
   "id": "0eff0233-d3ad-4914-8c7c-87fb1b332f61",
   "metadata": {},
   "source": [
    "# ________________________________________________________________________________________"
   ]
  },
  {
   "cell_type": "code",
   "execution_count": null,
   "id": "600a5ed8-14dd-409d-8a67-7e33ab7267d1",
   "metadata": {},
   "outputs": [],
   "source": [
    "matches.to_csv(\"C:/Users/Alban/Documents/IMDS/Projet_5A/Donnees/Matches_enrichies.csv\", index=False)"
   ]
  },
  {
   "cell_type": "code",
   "execution_count": null,
   "id": "c23d3cd5-84ad-4a91-a2b0-c49322fde7b0",
   "metadata": {},
   "outputs": [
    {
     "name": "stdout",
     "output_type": "stream",
     "text": [
      "['Division', 'MatchDate', 'MatchTime', 'HomeTeam', 'AwayTeam', 'HomeElo', 'AwayElo', 'Form3Home', 'Form5Home', 'Form3Away', 'Form5Away', 'FTHome', 'FTAway', 'FTResult', 'HTHome', 'HTAway', 'HTResult', 'HomeShots', 'AwayShots', 'HomeTarget', 'AwayTarget', 'HomeFouls', 'AwayFouls', 'HomeCorners', 'AwayCorners', 'HomeYellow', 'AwayYellow', 'HomeRed', 'AwayRed', 'OddHome', 'OddDraw', 'OddAway', 'MaxHome', 'MaxDraw', 'MaxAway', 'Over25', 'Under25', 'MaxOver25', 'MaxUnder25', 'HandiSize', 'HandiHome', 'HandiAway', 'date_x', 'HomeEloSnap', 'HomeEloChange1M', 'HomeEloChange3M', 'HomeEloChange6M', 'date_y', 'AwayEloSnap', 'AwayEloChange1M', 'AwayEloChange3M', 'AwayEloChange6M', 'EloChange1M_Diff', 'EloChange3M_Diff', 'EloChange6M_Diff', 'EloDiff', 'EloTotal', 'EloAdvantage', 'EloDiff2', 'EloTotal2', 'EloAdvantage2', 'Form3Diff', 'Form5Diff', 'FormMomentumHome', 'FormMomentumAway', 'PHome', 'PDraw', 'PAway', 'ProbSum', 'PHome_norm', 'PDraw_norm', 'PAway_norm', 'ShotsDifference', 'CornersDifference', 'CardsHome', 'CardsAway', 'CardsDiff', 'GameDominanceIndex']\n"
     ]
    }
   ],
   "source": [
    "print(matches.columns.tolist())"
   ]
  },
  {
   "cell_type": "code",
   "execution_count": null,
   "id": "8d75c376-6f7d-4152-b059-7d1892181f63",
   "metadata": {},
   "outputs": [
    {
     "name": "stdout",
     "output_type": "stream",
     "text": [
      "Season\n",
      "2001     6329\n",
      "2002     6173\n",
      "2003     3967\n",
      "2004     5534\n",
      "2005     6340\n",
      "2006     6959\n",
      "2007     6585\n",
      "2008     7148\n",
      "2009     7054\n",
      "2010     6925\n",
      "2011     7410\n",
      "2012    10597\n",
      "2013    11729\n",
      "2014    11993\n",
      "2015    12352\n",
      "2016    12100\n",
      "2017    12364\n",
      "2018    12042\n",
      "2019    12018\n",
      "2020     9562\n",
      "2021    13127\n",
      "2022    12168\n",
      "2023    12501\n",
      "2024    11148\n",
      "2025     1458\n",
      "dtype: int64\n",
      "Total features utilisables : 20\n"
     ]
    }
   ],
   "source": [
    "matches[\"Season\"] = matches[\"MatchDate\"].dt.year\n",
    "print(matches.groupby(\"Season\").size().tail(25))\n",
    "\n",
    "matches = matches[matches[\"Season\"] >= 2002]  \n",
    "\n",
    "features_disponibles = [\n",
    "    'HomeEloSnap', 'AwayEloSnap', 'EloDiff2', 'EloAdvantage2',\n",
    "    'EloChange1M_Diff', 'EloChange3M_Diff', 'EloChange6M_Diff',\n",
    "    'Form3Home', 'Form5Home', 'Form3Away', 'Form5Away',\n",
    "    'Form3Diff', 'Form5Diff', 'PHome_norm', 'PDraw_norm', 'PAway_norm',\n",
    "    'ShotsDifference', 'CornersDifference', 'CardsDiff', 'GameDominanceIndex'\n",
    "]\n",
    "print(f\"Total features utilisables : {len(features_disponibles)}\")"
   ]
  }
 ],
 "metadata": {
  "kernelspec": {
   "display_name": "base",
   "language": "python",
   "name": "python3"
  },
  "language_info": {
   "codemirror_mode": {
    "name": "ipython",
    "version": 3
   },
   "file_extension": ".py",
   "mimetype": "text/x-python",
   "name": "python",
   "nbconvert_exporter": "python",
   "pygments_lexer": "ipython3",
   "version": "3.11.5"
  }
 },
 "nbformat": 4,
 "nbformat_minor": 5
}
