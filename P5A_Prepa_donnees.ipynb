{
 "cells": [
  {
   "cell_type": "code",
   "execution_count": 2,
   "id": "2f8dfdf7-96d9-4690-8e9c-261d607ec119",
   "metadata": {},
   "outputs": [],
   "source": [
    "import pandas as pd\n",
    "import numpy as np"
   ]
  },
  {
   "cell_type": "markdown",
   "id": "42f2e61d-2d29-44e5-94b2-6aa1f8a59964",
   "metadata": {},
   "source": [
    "## Chargement des données"
   ]
  },
  {
   "cell_type": "code",
   "execution_count": 3,
   "id": "a42239b3-92b6-4239-a1df-80a953712c2f",
   "metadata": {},
   "outputs": [
    {
     "name": "stderr",
     "output_type": "stream",
     "text": [
      "C:\\Users\\Alban\\AppData\\Local\\Temp\\ipykernel_1616\\2847104701.py:1: DtypeWarning: Columns (2) have mixed types. Specify dtype option on import or set low_memory=False.\n",
      "  matches = pd.read_csv(\"C:/Users/Alban/Documents/IMDS/Projet 5A/Donnees/Matches.csv\")\n"
     ]
    },
    {
     "name": "stdout",
     "output_type": "stream",
     "text": [
      "Matches shape: (228377, 42)\n",
      "Elo shape: (242591, 4)\n",
      "\n",
      "Colonnes Matches : ['Division', 'MatchDate', 'MatchTime', 'HomeTeam', 'AwayTeam', 'HomeElo', 'AwayElo', 'Form3Home', 'Form5Home', 'Form3Away', 'Form5Away', 'FTHome', 'FTAway', 'FTResult', 'HTHome'] ...\n",
      "\n",
      "Colonnes Elo : ['date', 'club', 'country', 'elo']\n"
     ]
    }
   ],
   "source": [
    "matches = pd.read_csv(\"C:/Users/Alban/Documents/IMDS/Projet 5A/Donnees/Matches.csv\")\n",
    "elo = pd.read_csv(\"C:/Users/Alban/Documents/IMDS/Projet 5A/Donnees/EloRatings.csv\")\n",
    "\n",
    "print(\"Matches shape:\", matches.shape)\n",
    "print(\"Elo shape:\", elo.shape)\n",
    "\n",
    "print(\"\\nColonnes Matches :\", matches.columns.tolist()[:15], \"...\")\n",
    "print(\"\\nColonnes Elo :\", elo.columns.tolist())"
   ]
  },
  {
   "cell_type": "markdown",
   "id": "b2379009-95c6-4859-91a1-7a9d086870f3",
   "metadata": {},
   "source": [
    "## Variable cible"
   ]
  },
  {
   "cell_type": "code",
   "execution_count": null,
   "id": "c3bb7ba4-95d9-4ed5-818c-2d5c228a12b8",
   "metadata": {},
   "outputs": [],
   "source": []
  }
 ],
 "metadata": {
  "kernelspec": {
   "display_name": "Python (.venv)",
   "language": "python",
   "name": ".venv"
  },
  "language_info": {
   "codemirror_mode": {
    "name": "ipython",
    "version": 3
   },
   "file_extension": ".py",
   "mimetype": "text/x-python",
   "name": "python",
   "nbconvert_exporter": "python",
   "pygments_lexer": "ipython3",
   "version": "3.12.8"
  }
 },
 "nbformat": 4,
 "nbformat_minor": 5
}
